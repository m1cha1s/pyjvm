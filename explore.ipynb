{
 "cells": [
  {
   "cell_type": "code",
   "execution_count": 1,
   "metadata": {},
   "outputs": [],
   "source": [
    "from main import *"
   ]
  },
  {
   "cell_type": "code",
   "execution_count": 2,
   "metadata": {},
   "outputs": [
    {
     "name": "stdout",
     "output_type": "stream",
     "text": [
      "Class version: 52.0\n"
     ]
    }
   ],
   "source": [
    "jk = JVMClass()"
   ]
  },
  {
   "cell_type": "code",
   "execution_count": 7,
   "metadata": {},
   "outputs": [
    {
     "name": "stdout",
     "output_type": "stream",
     "text": [
      "[SourceFile]\n",
      "[LineNumberTable]\n",
      "[LineNumberTable]\n"
     ]
    }
   ],
   "source": [
    "print(jk.attributes)\n",
    "\n",
    "for method in jk.methods:\n",
    "    print(method.attributes[0].info.attributes)"
   ]
  },
  {
   "cell_type": "code",
   "execution_count": 4,
   "metadata": {},
   "outputs": [
    {
     "data": {
      "text/plain": [
       "[-- UNKNOWN 10 --,\n",
       " -- UNKNOWN 9 --,\n",
       " -- UNKNOWN 8 --,\n",
       " -- UNKNOWN 10 --,\n",
       " -- UNKNOWN 7 --,\n",
       " -- UNKNOWN 7 --,\n",
       " <init>,\n",
       " ()V,\n",
       " Code,\n",
       " LineNumberTable,\n",
       " main,\n",
       " ([Ljava/lang/String;)V,\n",
       " SourceFile,\n",
       " main.java,\n",
       " -- UNKNOWN 12 --,\n",
       " -- UNKNOWN 7 --,\n",
       " -- UNKNOWN 12 --,\n",
       " Hello,\n",
       " -- UNKNOWN 7 --,\n",
       " -- UNKNOWN 12 --,\n",
       " java/lang/Object,\n",
       " java/lang/System,\n",
       " out,\n",
       " Ljava/io/PrintStream;,\n",
       " java/io/PrintStream,\n",
       " println,\n",
       " (Ljava/lang/String;)V]"
      ]
     },
     "execution_count": 4,
     "metadata": {},
     "output_type": "execute_result"
    }
   ],
   "source": [
    "jk.constant_pool"
   ]
  }
 ],
 "metadata": {
  "kernelspec": {
   "display_name": "Python 3",
   "language": "python",
   "name": "python3"
  },
  "language_info": {
   "codemirror_mode": {
    "name": "ipython",
    "version": 3
   },
   "file_extension": ".py",
   "mimetype": "text/x-python",
   "name": "python",
   "nbconvert_exporter": "python",
   "pygments_lexer": "ipython3",
   "version": "3.10.12"
  }
 },
 "nbformat": 4,
 "nbformat_minor": 2
}
